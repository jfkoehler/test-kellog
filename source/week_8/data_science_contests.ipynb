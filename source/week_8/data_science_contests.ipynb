{
 "cells": [
  {
   "cell_type": "markdown",
   "metadata": {},
   "source": [
    "# Kaggle Competitions\n",
    "\n",
    "Kaggle is a great way to learn and practice data science.  Below you can find links to two contests to get you started as well as tutorials for helping improve your solutions in both Python and R.\n",
    "\n",
    "## Titanic: Learning from Disaster\n",
    "\n",
    "**Competition Description**:\n",
    "The sinking of the RMS Titanic is one of the most infamous shipwrecks in history.  On April 15, 1912, during her maiden voyage, the Titanic sank after colliding with an iceberg, killing 1502 out of 2224 passengers and crew. This sensational tragedy shocked the international community and led to better safety regulations for ships.\n",
    "\n",
    "One of the reasons that the shipwreck led to such loss of life was that there were not enough lifeboats for the passengers and crew. Although there was some element of luck involved in surviving the sinking, some groups of people were more likely to survive than others, such as women, children, and the upper-class.\n",
    "\n",
    "In this challenge, we ask you to complete the analysis of what sorts of people were likely to survive. In particular, we ask you to apply the tools of machine learning to predict which passengers survived the tragedy.\n",
    "\n",
    "**Tutorials**:\n",
    "\n",
    "- [Titanic Data Science Solutions](https://www.kaggle.com/startupsci/titanic-data-science-solutions): The notebook walks us through a typical workflow for solving data science competitions at sites like Kaggle.\n",
    "\n",
    "- [Interactive Data Science Tutorial](https://www.kaggle.com/helgejo/an-interactive-data-science-tutorial): Based on Titanic Kaggle competition.\n",
    "\n",
    "- [Machine Learning and Scikit-Learn](https://www.kaggle.com/jeffd23/scikit-learn-ml-from-start-to-finish): This notebook covers the basic Machine Learning process in Python step-by-step. Go from raw data to at least 78% accuracy on the Titanic Survivors dataset.\n",
    "\n",
    "- [XGBoost Example](https://www.kaggle.com/datacanary/xgboost-example-python): Popular approach to improving classification models and responsible for many winning solutions.\n",
    "\n",
    "## House Prices: Advanced Regression Techniques\n",
    "\n",
    "**Competition Description**\n",
    "\n",
    "Ask a home buyer to describe their dream house, and they probably won't begin with the height of the basement ceiling or the proximity to an east-west railroad. But this playground competition's dataset proves that much more influences price negotiations than the number of bedrooms or a white-picket fence.\n",
    "\n",
    "With 79 explanatory variables describing (almost) every aspect of residential homes in Ames, Iowa, this competition challenges you to predict the final price of each home.\n",
    "\n",
    "**Tutorials**:\n",
    "\n",
    "- [Fun with Real Estate Data](https://www.kaggle.com/skirmer/fun-with-real-estate-data): Linear, Random Forest, and XGBoost models in R for predicting sale prices.\n",
    "\n",
    "- [XGBoost and Parameter Tuning](https://www.kaggle.com/jiashenliu/updated-xgboost-with-parameter-tuning): Example in R of using XGBoost and Hyperparameter tuning to predict the housing prices.\n",
    "\n",
    "- [A Study on Regression Models](https://www.kaggle.com/juliencs/house-prices-advanced-regression-techniques/a-study-on-regression-applied-to-the-ames-dataset): This kernel is an attempt to use every trick in the books to unleash the full power of Linear Regression, including a lot of preprocessing and a look at several Regularization algorithms."
   ]
  }
 ],
 "metadata": {
  "kernelspec": {
   "display_name": "Python 3",
   "language": "python",
   "name": "python3"
  },
  "language_info": {
   "codemirror_mode": {
    "name": "ipython",
    "version": 3
   },
   "file_extension": ".py",
   "mimetype": "text/x-python",
   "name": "python",
   "nbconvert_exporter": "python",
   "pygments_lexer": "ipython3",
   "version": "3.7.3"
  }
 },
 "nbformat": 4,
 "nbformat_minor": 4
}
