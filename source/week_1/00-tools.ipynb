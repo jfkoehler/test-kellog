{
 "cells": [
  {
   "cell_type": "markdown",
   "metadata": {},
   "source": [
    "# Tools for AI\n",
    "\n",
    "There are many language new and old capable of carrying out Machine Learning and Artificial Intelligence oriented tasks.  In recent years, a few open source tools have come to dominate the space.  This guide is meant to give you a high level overview of some tools that are freely accessible and ready to plug and play with ML and AI algorithms.\n",
    "\n",
    "\n",
    "## Languages\n",
    "\n",
    "According to the StackOverflow developer survey of 2018, Python is the dominant language for data scientists and machine learning specialists.  Additionally,  the R language, and the SQL database query language, and a newer language that is also gaining speed called Julia. ([StackOverflow survey](https://insights.stackoverflow.com/survey/2018/#technology))\n",
    "\n",
    "All of these languages are freely accessible and open source projects.  Below, you will find links to each languages major documentation.  We will discuss a tool for putting these languages to use next.  Later, we focus on introducing the Python computing language and it's Pandas library for working with data.\n",
    "\n",
    "- Python official documentation:https://www.python.org/\n",
    "- Julia language official documentation: https://julialang.org/ \n",
    "- R documentation:https://www.r-project.org/\n",
    "- MySQL documentation: https://dev.mysql.com/doc/refman/8.0/en/\n",
    "\n",
    "\n",
    "\n"
   ]
  },
  {
   "cell_type": "markdown",
   "metadata": {},
   "source": [
    "## Jupyter Notebooks\n",
    "\n",
    "![](images/pjupyter.png)\n",
    "\n",
    "\n",
    "\n",
    "\n",
    "Jupyter notebooks ([jupyter.org](https://jupyter.org/)) are a powerful tool for interacting with many different languages.  The name indicates the connection to Julia, Python, and R.  They offer an interactive web based interface to use many languages including the initial three.  You can download the notebooks freely through the Anaconda distribution ([here](https://www.anaconda.com/download)).  The notebooks run locally in your web browser once installed.\n",
    "\n",
    "Also, a few companies have begun to offer Jupyter notebooks through just a web browser.  We will examine a few options in the following section.  The notebooks are a wonderful tool for teams and for communicating and sharing results with stakeholders.\n",
    "\n",
    "- Videos from Software Carpentry ([Carpentries Site]()) on installing and getting started with Jupyter notebooks.  \n",
    " - Mac: https://www.youtube.com/watch?v=TcSAln46u9U\n",
    " - Windows: https://www.youtube.com/watch?v=xxQ0mzZ8UvA\n",
    " \n",
    " \n",
    " \n",
    " \n",
    "- Introduction to Jupyter notebooks tutorial from Real Python: https://realpython.com/jupyter-notebook-introduction/\n"
   ]
  },
  {
   "cell_type": "markdown",
   "metadata": {},
   "source": [
    "### Jupyter Notebooks on the Web\n",
    "\n",
    "**GOOGLE COLAB**\n",
    "\n",
    "![](images/colab.png)\n",
    "\n",
    "\n",
    "Both Google and Microsoft have recently opened up versions of the Jupyter notebooks for use online.  For Google, the notebooks are integrated into your google drive, and are accessible at [https://colab.research.google.com](https://colab.research.google.com/notebooks/welcome.ipynb) .  If you have a google login, you can use this to login and save your notebooks to your google drive.  More importantly, you can use google's computational resources to tap GPU resources.\n",
    "\n",
    "Collab has a number of tutorials available for getting up and running with Machine Learning in the cloud:\n",
    "\n",
    "- Getting Started with Collab: https://colab.research.google.com/notebooks/basic_features_overview.ipynb\n",
    "- Loading Data in Colab: https://colab.research.google.com/notebooks/io.ipynb\n",
    "- Introduction to Pandas: https://colab.research.google.com/notebooks/mlcc/intro_to_pandas.ipynb\n",
    "\n",
    "\n",
    "\n",
    "\n",
    "\n"
   ]
  },
  {
   "cell_type": "markdown",
   "metadata": {},
   "source": [
    "**Microsoft Azure Notebooks**\n",
    "\n",
    "Microsoft's Azure Notebooks are similar to Google's offering.  They are accessible through a web browser, and can be configured to access additional processing power.  They are accesible at [https://notebooks.azure.com/](https://notebooks.azure.com/).\n",
    "\n",
    "\n",
    "\n",
    "![](images/azure.png)\n",
    "\n",
    "Like Google, Microsoft has a number of tutorials to get up and running with the notebooks.  \n",
    "\n",
    "- Accessing Data with Azure: https://notebooks.azure.com/Microsoft/projects/2018-data-access\n",
    "- Introduction to Python for Data Analysis: https://notebooks.azure.com/wesm/projects/python-for-data-analysis\n",
    "\n"
   ]
  },
  {
   "cell_type": "markdown",
   "metadata": {},
   "source": [
    "## Software for Local Computers\n",
    "\n",
    "**UNIX on Mac**\n",
    "\n",
    "![](images/unix.png)\n",
    "\n",
    "\n",
    "\n",
    "When working locally, we will frequently want to interact with the file system of the machine to create, delete, move, and copy files.  Typically, we will use the terminal application to execute this code.  On a Mac, you have a terminal application already installed.  You can find this by using the search bar looking for the **Terminal** application.  \n",
    "\n",
    "\n",
    "\n",
    "\n",
    "\n",
    "\n",
    "**GitBash on Windows**\n",
    "\n",
    "![](images/gitbash.png)\n",
    "\n",
    "On a Windows machine, certain commands can be executed in the Power Shell, but it is easier to download and install a different application to interact with UNIX.  [GitBash](https://git-for-windows.github.io/) is a common application for Windows users.  \n",
    "\n",
    "\n",
    "<div class=\"alert alert-danger\" role=\"alert\">\n",
    "    \n",
    "**WARNING!!**: Be sure to choose the \"ADD TO PATH\" box during the installation process so you can access your other programs including Python and Jupyter notebooks.\n",
    "    \n",
    "</div>"
   ]
  },
  {
   "cell_type": "markdown",
   "metadata": {},
   "source": [
    "**Resources for Learning Bash**\n",
    "\n",
    "- Software Carpentry lessons on UNIX shell: http://swcarpentry.github.io/shell-novice/\n"
   ]
  }
 ],
 "metadata": {
  "kernelspec": {
   "display_name": "Python 3",
   "language": "python",
   "name": "python3"
  },
  "language_info": {
   "codemirror_mode": {
    "name": "ipython",
    "version": 3
   },
   "file_extension": ".py",
   "mimetype": "text/x-python",
   "name": "python",
   "nbconvert_exporter": "python",
   "pygments_lexer": "ipython3",
   "version": "3.7.3"
  }
 },
 "nbformat": 4,
 "nbformat_minor": 4
}
