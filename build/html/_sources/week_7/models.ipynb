{
 "cells": [
  {
   "cell_type": "markdown",
   "metadata": {},
   "source": [
    "# Mathematical Models\n",
    "\n",
    "This weeks resources focus on providing more detailed information about the mathematics behind many models we have encountered to this point.  The materials are a mixture of readings and jupyter notebooks, and are broken into standard conceptual blocks.\n",
    "\n",
    "## Supervised Learning\n",
    "\n",
    "In supervised learning, we know the labels of some data that we would like to predict.  Both classification and regression are examples of supervised learning problems.\n",
    "\n",
    "- [**Introduction to Supervised Learning**](supervised/01-Overview-of-Regression-Classification.pdf): Chapter from Introduction to Statistical Learning discussing big picture of regression and classification problems with accompanying R code.\n",
    "\n",
    "- [**Overview of Supervised Learning**](supervised/ESL_supervised.pdf): Chapter from Elements of Statistical Learning (ESL) on big idea of supervised learning.\n",
    "\n",
    "### Linear Regression\n",
    "\n",
    "- [**PYDSHB: Linear Regression in Depth**](regression/05_06_Linear_Regression.ipynb): Chapter from Python Data Science Handbook with accompanying Python code.\n",
    "\n",
    "- [**ISLR: Linear Regression Overview**](regression/ISLR_regression.pdf): Introductory level description of Linear Regression from the ISLR textbook.  Includes relevant R code.\n",
    "\n",
    "- [**ELEMENTS: Linear Regression Deep**](regression/ESL_regression): Rigorous mathematical description of linear regression from the Elements of Statistical Learning.\n",
    "\n",
    "- [**Notes on Regression**](regression/ng-regression-notes.pdf): Notes from Andrew Ng's class introducing Linear Regression.\n",
    "\n",
    "### Classification\n",
    "\n",
    "- [**PYDSHB: Naive Bayes in Depth**](classification/05_05_Naive_Bayes.ipynb): Overview of classification using Bayes Theorem from the Python Data Science Handbook.  Jupyter notebook with accompanying Python code.\n",
    "\n",
    "- [**ISLR: Classification**](classification/ISLR_classification.pdf): Introductory mathematical and statistical presentation of classification using Logistic Regression from ISLR textbook.  Contains relevant R code.\n",
    "\n",
    "- [**ESL: Classification**](classification/ESL_classification.pdf): Rigorous development of classification from Elements of Statistical Learning.\n",
    "\n",
    "- [**Notes on Classification**](classification/ng-classification-notes.pdf): Notes from Andrew Ng's class introducing classification and Logistic Regression.\n",
    "\n",
    "## Unsupervised Learning\n",
    "\n",
    "- [**PYDSHB**: KMeans Clustering](https://colab.research.google.com/github/jakevdp/PythonDataScienceHandbook/blob/master/notebooks/05.11-K-Means.ipynb): KMeans from Python Data Science Handbook including Python code and examples.\n",
    "\n",
    "- [**PYDSHB**: Gaussian Mixture Models](https://colab.research.google.com/github/jakevdp/PythonDataScienceHandbook/blob/master/notebooks/05.12-Gaussian-Mixtures.ipynb): Gaussian Mixture Models in Python and examples from the Python Data Science Handbook.\n",
    "\n",
    "- [**ISLR: Unsupervised Learning**](unsupervised/ISLR_unsupervised.pdf): Chapter from Introduction to Statistical Learning introducing unsupervised learning with accompanying R code.\n",
    "\n",
    "- [**ESL: Unsupervised Learning**](unsupervised/ESL_unsupervised.pdf): Rigorous introduction to unsupervised learning from the Elements of Statistical Learning."
   ]
  }
 ],
 "metadata": {
  "kernelspec": {
   "display_name": "Python 3",
   "language": "python",
   "name": "python3"
  },
  "language_info": {
   "codemirror_mode": {
    "name": "ipython",
    "version": 3
   },
   "file_extension": ".py",
   "mimetype": "text/x-python",
   "name": "python",
   "nbconvert_exporter": "python",
   "pygments_lexer": "ipython3",
   "version": "3.7.3"
  }
 },
 "nbformat": 4,
 "nbformat_minor": 4
}
