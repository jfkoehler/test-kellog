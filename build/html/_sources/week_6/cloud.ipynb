{
 "cells": [
  {
   "cell_type": "markdown",
   "metadata": {},
   "source": [
    "# Cloud Services: An Overview\n",
    "\n",
    "This week we aim to give an overview of a few popular cloud services that can be useful for both training and distributing AI models.  \n",
    "\n",
    "## Google Cloud Platform\n",
    "\n",
    "- [**GCP Overview**](https://cloud.google.com/docs/overview/): This overview is designed to help you understand the overall landscape of Google Cloud Platform (GCP). Here, you'll take a brief look at some of the commonly used features and get pointers to documentation that can help you go deeper. Knowing what's available and how the parts work together can help you make decisions about how to proceed. You'll also get pointers to some tutorials that you can use to try out GCP in various scenarios.\n",
    "\n",
    "- [**Best Practices for Enterprise Organizations**](https://cloud.google.com/docs/enterprise/best-practices-for-enterprise-organizations): \n",
    "This guide introduces best practices to help enterprise customers like you on your journey to Google Cloud Platform (GCP). The guide is not an exhaustive list of recommendations. Instead, its goal is to help enterprise architects and technology stakeholders understand the scope of activities and plan accordingly. Each section provides key actions and includes links for further reading.\n",
    "\n",
    "## Microsoft Azure Platform\n",
    "\n",
    "- [**Overview of Microsoft Cloud Operating Model**](https://docs.microsoft.com/en-us/learn/modules/cloud-operating-model/1-introduction): This module covers the basics of how to use the Cloud Operating Model, a tool that helps you recognize where your organization is in its cloud adoption journey and identify next steps. It also provides tools to support you in the adoption of cloud computing. We’ll describe how to identify opportunities and develop strategies based on real-world examples of cloud adoption.\n",
    "\n",
    "- [**Introduction to Azure Solutions**](https://docs.microsoft.com/en-us/learn/modules/intro-azure-areas-and-solutions/1-introduction): Get started with your digital transformation by exploring why Azure is the right platform for your organization and the overall value Azure can bring. We’ll demonstrate how digital transformation with Azure can empower employees, engage customers, optimize operations, and transform products.\n",
    "\n",
    "- [**Microsoft Azure AI strategy and solutions**](https://docs.microsoft.com/en-us/learn/modules/azure-artificial-intelligence/1-introduction-to-azure-artificial-intelligence): This module provides an overview of Azure AI and demonstrates how Microsoft tools, services, and infrastructure can help make AI real for your organization, whether you want to unlock insights from your latent data with knowledge mining, develop your own AI models with machine learning, or build immersive apps using AI.\n",
    "\n",
    "## Amazon Web Services\n",
    "\n",
    "- [**AWS Overview**](cloud_services/aws-overview.pdf): Amazon Web Services offers a broad set of global cloud-based products including\n",
    "compute, storage, databases, analytics, networking, mobile, developer tools,\n",
    "management tools, IoT, security, and enterprise applications: on-demand, available in\n",
    "seconds, with pay-as-you-go pricing. From data warehousing to deployment tools,\n",
    "directories to content delivery, over 140 AWS services are available. New services can\n",
    "be provisioned quickly, without the upfront capital expense. This allows enterprises,\n",
    "start-ups, small and medium-sized businesses, and customers in the public sector to\n",
    "access the building blocks they need to respond quickly to changing business\n",
    "requirements. This whitepaper provides you with an overview of the benefits of the\n",
    "AWS Cloud and introduces you to the services that make up the platform.\n",
    "\n",
    "- [**AWS Machine Learning Overview**](https://www.aws.training/learningobject/video?id=16207&trk=gs_card): This course introduces Amazon Machine Learning and Artificial Intelligence tools that enable capabilities across frameworks and infrastructure, machine learning platforms, and API-driven services.\n",
    "\n",
    "- [**AWS Intro to AI**](https://www.aws.training/learningobject/video?id=16428&trk=gs_card): In the course, we discuss what AI is and why it is important, and take a brief look at machine learning and deep learning—which are subsets of AI—and describe how Amazon uses AI in its products.\n",
    "\n",
    "- [**Training Models in AWS**](https://aws.amazon.com/getting-started/tutorials/train-deep-learning-model-aws-ec2-containers/): In this tutorial, you will train a TensorFlow machine learning model on an Amazon EC2 instance using the AWS Deep Learning Containers.\n",
    "\n",
    "- [**AWS Use Case: Call Center Management**](https://www.aws.training/learningobject/wbc?id=12531&trk=gs_card): This training introduces you to the practical Amazon approach to machine learning (ML)."
   ]
  }
 ],
 "metadata": {
  "kernelspec": {
   "display_name": "Python 3",
   "language": "python",
   "name": "python3"
  },
  "language_info": {
   "codemirror_mode": {
    "name": "ipython",
    "version": 3
   },
   "file_extension": ".py",
   "mimetype": "text/x-python",
   "name": "python",
   "nbconvert_exporter": "python",
   "pygments_lexer": "ipython3",
   "version": "3.7.3"
  }
 },
 "nbformat": 4,
 "nbformat_minor": 4
}
