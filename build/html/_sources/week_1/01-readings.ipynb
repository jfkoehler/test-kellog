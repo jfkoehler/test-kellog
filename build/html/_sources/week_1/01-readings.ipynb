{
 "cells": [
  {
   "cell_type": "markdown",
   "metadata": {},
   "source": [
    "# Readings\n",
    "\n",
    "*[Computing Machinery and Intelligence](readings/turing_computing_machinery.pdf)* by Alan Turing\n",
    "\n",
    "*[A Logical Calculus of the Idea Immanent in Nervous Activity](readings/mcculloch_pitts_1943.pdf)* by Warren McCollough and Walter Pitts\n",
    "\n",
    "*[The Perceptron: A Probabilistic Model For Information Storage And Organization In The Brain](readings/rosenblatt_perceptron.pdf)* by Frank Rosenblatt"
   ]
  }
 ],
 "metadata": {
  "kernelspec": {
   "display_name": "Python 3",
   "language": "python",
   "name": "python3"
  },
  "language_info": {
   "codemirror_mode": {
    "name": "ipython",
    "version": 3
   },
   "file_extension": ".py",
   "mimetype": "text/x-python",
   "name": "python",
   "nbconvert_exporter": "python",
   "pygments_lexer": "ipython3",
   "version": "3.6.7"
  }
 },
 "nbformat": 4,
 "nbformat_minor": 2
}
